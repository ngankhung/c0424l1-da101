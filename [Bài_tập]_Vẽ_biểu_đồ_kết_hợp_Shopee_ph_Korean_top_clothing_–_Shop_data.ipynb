{
  "nbformat": 4,
  "nbformat_minor": 0,
  "metadata": {
    "colab": {
      "provenance": []
    },
    "kernelspec": {
      "name": "python3",
      "display_name": "Python 3"
    },
    "language_info": {
      "name": "python"
    }
  },
  "cells": [
    {
      "cell_type": "code",
      "execution_count": 1,
      "metadata": {
        "id": "5TRGt09OzZoa"
      },
      "outputs": [],
      "source": [
        "import pandas as pd\n",
        "import numpy as np\n",
        "import matplotlib.pyplot as plt"
      ]
    },
    {
      "cell_type": "code",
      "source": [
        "df = pd.read_csv('/content/drive/MyDrive/bài tập colab/CSV/shopeep_koreantop_clothing_shop_data.csv')"
      ],
      "metadata": {
        "id": "raWJi_9n0yfC"
      },
      "execution_count": 3,
      "outputs": []
    },
    {
      "cell_type": "code",
      "source": [
        "df.head()"
      ],
      "metadata": {
        "colab": {
          "base_uri": "https://localhost:8080/",
          "height": 348
        },
        "id": "JaVRZ3Al0zM1",
        "outputId": "5d5c9809-9df7-4e7b-befe-a9c29c5b1f89"
      },
      "execution_count": 4,
      "outputs": [
        {
          "output_type": "execute_result",
          "data": {
            "text/plain": [
              "             pk_shop date_collected     shopid                  name  \\\n",
              "0  20210613254711738     2021-06-13  254711738          hello.may.ph   \n",
              "1  20210613314198143     2021-06-13  314198143       love.women.shop   \n",
              "2   2021061310377223     2021-06-13   10377223         R&O RedOrange   \n",
              "3   2021061321407329     2021-06-13   21407329           patriciacai   \n",
              "4   2021061311187885     2021-06-13   11187885  Little Market Manila   \n",
              "\n",
              "  join_month  join_day  join_year  item_count  follower_count response_time  \\\n",
              "0      April        27       2020         446           17487      10:13:55   \n",
              "1  September        25       2020         263            8574      10:43:05   \n",
              "2  September        27       2016         209          660417      08:32:07   \n",
              "3      April        30       2017         165           18787      09:10:38   \n",
              "4    October        18       2016         467           67371      11:40:59   \n",
              "\n",
              "   response_rate               shop_location  rating_bad  rating_good  \\\n",
              "0             96                         NaN         181        17510   \n",
              "1             73    San Nicolas,Metro Manila          78         2656   \n",
              "2             90     Pasay City,Metro Manila        4647      1071829   \n",
              "3             94        Binondo,Metro Manila          44        18959   \n",
              "4             89  Caloocan City,Metro Manila         680        39252   \n",
              "\n",
              "   rating_normal  rating_star  is_shopee_verified  is_official_shop  \n",
              "0            729         4.81                   1                 0  \n",
              "1            198         4.68                   0                 0  \n",
              "2          18073         4.91                   1                 0  \n",
              "3            215         4.94                   1                 0  \n",
              "4           2383         4.73                   1                 0  "
            ],
            "text/html": [
              "\n",
              "  <div id=\"df-609fadb0-ae29-4a4a-ae40-42f8d0018f4c\" class=\"colab-df-container\">\n",
              "    <div>\n",
              "<style scoped>\n",
              "    .dataframe tbody tr th:only-of-type {\n",
              "        vertical-align: middle;\n",
              "    }\n",
              "\n",
              "    .dataframe tbody tr th {\n",
              "        vertical-align: top;\n",
              "    }\n",
              "\n",
              "    .dataframe thead th {\n",
              "        text-align: right;\n",
              "    }\n",
              "</style>\n",
              "<table border=\"1\" class=\"dataframe\">\n",
              "  <thead>\n",
              "    <tr style=\"text-align: right;\">\n",
              "      <th></th>\n",
              "      <th>pk_shop</th>\n",
              "      <th>date_collected</th>\n",
              "      <th>shopid</th>\n",
              "      <th>name</th>\n",
              "      <th>join_month</th>\n",
              "      <th>join_day</th>\n",
              "      <th>join_year</th>\n",
              "      <th>item_count</th>\n",
              "      <th>follower_count</th>\n",
              "      <th>response_time</th>\n",
              "      <th>response_rate</th>\n",
              "      <th>shop_location</th>\n",
              "      <th>rating_bad</th>\n",
              "      <th>rating_good</th>\n",
              "      <th>rating_normal</th>\n",
              "      <th>rating_star</th>\n",
              "      <th>is_shopee_verified</th>\n",
              "      <th>is_official_shop</th>\n",
              "    </tr>\n",
              "  </thead>\n",
              "  <tbody>\n",
              "    <tr>\n",
              "      <th>0</th>\n",
              "      <td>20210613254711738</td>\n",
              "      <td>2021-06-13</td>\n",
              "      <td>254711738</td>\n",
              "      <td>hello.may.ph</td>\n",
              "      <td>April</td>\n",
              "      <td>27</td>\n",
              "      <td>2020</td>\n",
              "      <td>446</td>\n",
              "      <td>17487</td>\n",
              "      <td>10:13:55</td>\n",
              "      <td>96</td>\n",
              "      <td>NaN</td>\n",
              "      <td>181</td>\n",
              "      <td>17510</td>\n",
              "      <td>729</td>\n",
              "      <td>4.81</td>\n",
              "      <td>1</td>\n",
              "      <td>0</td>\n",
              "    </tr>\n",
              "    <tr>\n",
              "      <th>1</th>\n",
              "      <td>20210613314198143</td>\n",
              "      <td>2021-06-13</td>\n",
              "      <td>314198143</td>\n",
              "      <td>love.women.shop</td>\n",
              "      <td>September</td>\n",
              "      <td>25</td>\n",
              "      <td>2020</td>\n",
              "      <td>263</td>\n",
              "      <td>8574</td>\n",
              "      <td>10:43:05</td>\n",
              "      <td>73</td>\n",
              "      <td>San Nicolas,Metro Manila</td>\n",
              "      <td>78</td>\n",
              "      <td>2656</td>\n",
              "      <td>198</td>\n",
              "      <td>4.68</td>\n",
              "      <td>0</td>\n",
              "      <td>0</td>\n",
              "    </tr>\n",
              "    <tr>\n",
              "      <th>2</th>\n",
              "      <td>2021061310377223</td>\n",
              "      <td>2021-06-13</td>\n",
              "      <td>10377223</td>\n",
              "      <td>R&amp;O RedOrange</td>\n",
              "      <td>September</td>\n",
              "      <td>27</td>\n",
              "      <td>2016</td>\n",
              "      <td>209</td>\n",
              "      <td>660417</td>\n",
              "      <td>08:32:07</td>\n",
              "      <td>90</td>\n",
              "      <td>Pasay City,Metro Manila</td>\n",
              "      <td>4647</td>\n",
              "      <td>1071829</td>\n",
              "      <td>18073</td>\n",
              "      <td>4.91</td>\n",
              "      <td>1</td>\n",
              "      <td>0</td>\n",
              "    </tr>\n",
              "    <tr>\n",
              "      <th>3</th>\n",
              "      <td>2021061321407329</td>\n",
              "      <td>2021-06-13</td>\n",
              "      <td>21407329</td>\n",
              "      <td>patriciacai</td>\n",
              "      <td>April</td>\n",
              "      <td>30</td>\n",
              "      <td>2017</td>\n",
              "      <td>165</td>\n",
              "      <td>18787</td>\n",
              "      <td>09:10:38</td>\n",
              "      <td>94</td>\n",
              "      <td>Binondo,Metro Manila</td>\n",
              "      <td>44</td>\n",
              "      <td>18959</td>\n",
              "      <td>215</td>\n",
              "      <td>4.94</td>\n",
              "      <td>1</td>\n",
              "      <td>0</td>\n",
              "    </tr>\n",
              "    <tr>\n",
              "      <th>4</th>\n",
              "      <td>2021061311187885</td>\n",
              "      <td>2021-06-13</td>\n",
              "      <td>11187885</td>\n",
              "      <td>Little Market Manila</td>\n",
              "      <td>October</td>\n",
              "      <td>18</td>\n",
              "      <td>2016</td>\n",
              "      <td>467</td>\n",
              "      <td>67371</td>\n",
              "      <td>11:40:59</td>\n",
              "      <td>89</td>\n",
              "      <td>Caloocan City,Metro Manila</td>\n",
              "      <td>680</td>\n",
              "      <td>39252</td>\n",
              "      <td>2383</td>\n",
              "      <td>4.73</td>\n",
              "      <td>1</td>\n",
              "      <td>0</td>\n",
              "    </tr>\n",
              "  </tbody>\n",
              "</table>\n",
              "</div>\n",
              "    <div class=\"colab-df-buttons\">\n",
              "\n",
              "  <div class=\"colab-df-container\">\n",
              "    <button class=\"colab-df-convert\" onclick=\"convertToInteractive('df-609fadb0-ae29-4a4a-ae40-42f8d0018f4c')\"\n",
              "            title=\"Convert this dataframe to an interactive table.\"\n",
              "            style=\"display:none;\">\n",
              "\n",
              "  <svg xmlns=\"http://www.w3.org/2000/svg\" height=\"24px\" viewBox=\"0 -960 960 960\">\n",
              "    <path d=\"M120-120v-720h720v720H120Zm60-500h600v-160H180v160Zm220 220h160v-160H400v160Zm0 220h160v-160H400v160ZM180-400h160v-160H180v160Zm440 0h160v-160H620v160ZM180-180h160v-160H180v160Zm440 0h160v-160H620v160Z\"/>\n",
              "  </svg>\n",
              "    </button>\n",
              "\n",
              "  <style>\n",
              "    .colab-df-container {\n",
              "      display:flex;\n",
              "      gap: 12px;\n",
              "    }\n",
              "\n",
              "    .colab-df-convert {\n",
              "      background-color: #E8F0FE;\n",
              "      border: none;\n",
              "      border-radius: 50%;\n",
              "      cursor: pointer;\n",
              "      display: none;\n",
              "      fill: #1967D2;\n",
              "      height: 32px;\n",
              "      padding: 0 0 0 0;\n",
              "      width: 32px;\n",
              "    }\n",
              "\n",
              "    .colab-df-convert:hover {\n",
              "      background-color: #E2EBFA;\n",
              "      box-shadow: 0px 1px 2px rgba(60, 64, 67, 0.3), 0px 1px 3px 1px rgba(60, 64, 67, 0.15);\n",
              "      fill: #174EA6;\n",
              "    }\n",
              "\n",
              "    .colab-df-buttons div {\n",
              "      margin-bottom: 4px;\n",
              "    }\n",
              "\n",
              "    [theme=dark] .colab-df-convert {\n",
              "      background-color: #3B4455;\n",
              "      fill: #D2E3FC;\n",
              "    }\n",
              "\n",
              "    [theme=dark] .colab-df-convert:hover {\n",
              "      background-color: #434B5C;\n",
              "      box-shadow: 0px 1px 3px 1px rgba(0, 0, 0, 0.15);\n",
              "      filter: drop-shadow(0px 1px 2px rgba(0, 0, 0, 0.3));\n",
              "      fill: #FFFFFF;\n",
              "    }\n",
              "  </style>\n",
              "\n",
              "    <script>\n",
              "      const buttonEl =\n",
              "        document.querySelector('#df-609fadb0-ae29-4a4a-ae40-42f8d0018f4c button.colab-df-convert');\n",
              "      buttonEl.style.display =\n",
              "        google.colab.kernel.accessAllowed ? 'block' : 'none';\n",
              "\n",
              "      async function convertToInteractive(key) {\n",
              "        const element = document.querySelector('#df-609fadb0-ae29-4a4a-ae40-42f8d0018f4c');\n",
              "        const dataTable =\n",
              "          await google.colab.kernel.invokeFunction('convertToInteractive',\n",
              "                                                    [key], {});\n",
              "        if (!dataTable) return;\n",
              "\n",
              "        const docLinkHtml = 'Like what you see? Visit the ' +\n",
              "          '<a target=\"_blank\" href=https://colab.research.google.com/notebooks/data_table.ipynb>data table notebook</a>'\n",
              "          + ' to learn more about interactive tables.';\n",
              "        element.innerHTML = '';\n",
              "        dataTable['output_type'] = 'display_data';\n",
              "        await google.colab.output.renderOutput(dataTable, element);\n",
              "        const docLink = document.createElement('div');\n",
              "        docLink.innerHTML = docLinkHtml;\n",
              "        element.appendChild(docLink);\n",
              "      }\n",
              "    </script>\n",
              "  </div>\n",
              "\n",
              "\n",
              "<div id=\"df-63fad291-f54d-4ffc-9583-d7fba7599b00\">\n",
              "  <button class=\"colab-df-quickchart\" onclick=\"quickchart('df-63fad291-f54d-4ffc-9583-d7fba7599b00')\"\n",
              "            title=\"Suggest charts\"\n",
              "            style=\"display:none;\">\n",
              "\n",
              "<svg xmlns=\"http://www.w3.org/2000/svg\" height=\"24px\"viewBox=\"0 0 24 24\"\n",
              "     width=\"24px\">\n",
              "    <g>\n",
              "        <path d=\"M19 3H5c-1.1 0-2 .9-2 2v14c0 1.1.9 2 2 2h14c1.1 0 2-.9 2-2V5c0-1.1-.9-2-2-2zM9 17H7v-7h2v7zm4 0h-2V7h2v10zm4 0h-2v-4h2v4z\"/>\n",
              "    </g>\n",
              "</svg>\n",
              "  </button>\n",
              "\n",
              "<style>\n",
              "  .colab-df-quickchart {\n",
              "      --bg-color: #E8F0FE;\n",
              "      --fill-color: #1967D2;\n",
              "      --hover-bg-color: #E2EBFA;\n",
              "      --hover-fill-color: #174EA6;\n",
              "      --disabled-fill-color: #AAA;\n",
              "      --disabled-bg-color: #DDD;\n",
              "  }\n",
              "\n",
              "  [theme=dark] .colab-df-quickchart {\n",
              "      --bg-color: #3B4455;\n",
              "      --fill-color: #D2E3FC;\n",
              "      --hover-bg-color: #434B5C;\n",
              "      --hover-fill-color: #FFFFFF;\n",
              "      --disabled-bg-color: #3B4455;\n",
              "      --disabled-fill-color: #666;\n",
              "  }\n",
              "\n",
              "  .colab-df-quickchart {\n",
              "    background-color: var(--bg-color);\n",
              "    border: none;\n",
              "    border-radius: 50%;\n",
              "    cursor: pointer;\n",
              "    display: none;\n",
              "    fill: var(--fill-color);\n",
              "    height: 32px;\n",
              "    padding: 0;\n",
              "    width: 32px;\n",
              "  }\n",
              "\n",
              "  .colab-df-quickchart:hover {\n",
              "    background-color: var(--hover-bg-color);\n",
              "    box-shadow: 0 1px 2px rgba(60, 64, 67, 0.3), 0 1px 3px 1px rgba(60, 64, 67, 0.15);\n",
              "    fill: var(--button-hover-fill-color);\n",
              "  }\n",
              "\n",
              "  .colab-df-quickchart-complete:disabled,\n",
              "  .colab-df-quickchart-complete:disabled:hover {\n",
              "    background-color: var(--disabled-bg-color);\n",
              "    fill: var(--disabled-fill-color);\n",
              "    box-shadow: none;\n",
              "  }\n",
              "\n",
              "  .colab-df-spinner {\n",
              "    border: 2px solid var(--fill-color);\n",
              "    border-color: transparent;\n",
              "    border-bottom-color: var(--fill-color);\n",
              "    animation:\n",
              "      spin 1s steps(1) infinite;\n",
              "  }\n",
              "\n",
              "  @keyframes spin {\n",
              "    0% {\n",
              "      border-color: transparent;\n",
              "      border-bottom-color: var(--fill-color);\n",
              "      border-left-color: var(--fill-color);\n",
              "    }\n",
              "    20% {\n",
              "      border-color: transparent;\n",
              "      border-left-color: var(--fill-color);\n",
              "      border-top-color: var(--fill-color);\n",
              "    }\n",
              "    30% {\n",
              "      border-color: transparent;\n",
              "      border-left-color: var(--fill-color);\n",
              "      border-top-color: var(--fill-color);\n",
              "      border-right-color: var(--fill-color);\n",
              "    }\n",
              "    40% {\n",
              "      border-color: transparent;\n",
              "      border-right-color: var(--fill-color);\n",
              "      border-top-color: var(--fill-color);\n",
              "    }\n",
              "    60% {\n",
              "      border-color: transparent;\n",
              "      border-right-color: var(--fill-color);\n",
              "    }\n",
              "    80% {\n",
              "      border-color: transparent;\n",
              "      border-right-color: var(--fill-color);\n",
              "      border-bottom-color: var(--fill-color);\n",
              "    }\n",
              "    90% {\n",
              "      border-color: transparent;\n",
              "      border-bottom-color: var(--fill-color);\n",
              "    }\n",
              "  }\n",
              "</style>\n",
              "\n",
              "  <script>\n",
              "    async function quickchart(key) {\n",
              "      const quickchartButtonEl =\n",
              "        document.querySelector('#' + key + ' button');\n",
              "      quickchartButtonEl.disabled = true;  // To prevent multiple clicks.\n",
              "      quickchartButtonEl.classList.add('colab-df-spinner');\n",
              "      try {\n",
              "        const charts = await google.colab.kernel.invokeFunction(\n",
              "            'suggestCharts', [key], {});\n",
              "      } catch (error) {\n",
              "        console.error('Error during call to suggestCharts:', error);\n",
              "      }\n",
              "      quickchartButtonEl.classList.remove('colab-df-spinner');\n",
              "      quickchartButtonEl.classList.add('colab-df-quickchart-complete');\n",
              "    }\n",
              "    (() => {\n",
              "      let quickchartButtonEl =\n",
              "        document.querySelector('#df-63fad291-f54d-4ffc-9583-d7fba7599b00 button');\n",
              "      quickchartButtonEl.style.display =\n",
              "        google.colab.kernel.accessAllowed ? 'block' : 'none';\n",
              "    })();\n",
              "  </script>\n",
              "</div>\n",
              "\n",
              "    </div>\n",
              "  </div>\n"
            ],
            "application/vnd.google.colaboratory.intrinsic+json": {
              "type": "dataframe",
              "variable_name": "df",
              "summary": "{\n  \"name\": \"df\",\n  \"rows\": 746,\n  \"fields\": [\n    {\n      \"column\": \"pk_shop\",\n      \"properties\": {\n        \"dtype\": \"number\",\n        \"std\": 8764286769163500,\n        \"min\": 202106131083822,\n        \"max\": 20210706467411881,\n        \"num_unique_values\": 746,\n        \"samples\": [\n          20210621298717077,\n          20210621303372405,\n          20210613371422543\n        ],\n        \"semantic_type\": \"\",\n        \"description\": \"\"\n      }\n    },\n    {\n      \"column\": \"date_collected\",\n      \"properties\": {\n        \"dtype\": \"object\",\n        \"num_unique_values\": 4,\n        \"samples\": [\n          \"2021-06-21\",\n          \"2021-07-06\",\n          \"2021-06-13\"\n        ],\n        \"semantic_type\": \"\",\n        \"description\": \"\"\n      }\n    },\n    {\n      \"column\": \"shopid\",\n      \"properties\": {\n        \"dtype\": \"number\",\n        \"std\": 142521565,\n        \"min\": 1083822,\n        \"max\": 468959708,\n        \"num_unique_values\": 387,\n        \"samples\": [\n          369909059,\n          192699788,\n          123995062\n        ],\n        \"semantic_type\": \"\",\n        \"description\": \"\"\n      }\n    },\n    {\n      \"column\": \"name\",\n      \"properties\": {\n        \"dtype\": \"string\",\n        \"num_unique_values\": 391,\n        \"samples\": [\n          \"KathrynClothing\",\n          \"BuyMorePh\",\n          \"Ano Hanap?\"\n        ],\n        \"semantic_type\": \"\",\n        \"description\": \"\"\n      }\n    },\n    {\n      \"column\": \"join_month\",\n      \"properties\": {\n        \"dtype\": \"category\",\n        \"num_unique_values\": 12,\n        \"samples\": [\n          \"January\",\n          \"August\",\n          \"April\"\n        ],\n        \"semantic_type\": \"\",\n        \"description\": \"\"\n      }\n    },\n    {\n      \"column\": \"join_day\",\n      \"properties\": {\n        \"dtype\": \"number\",\n        \"std\": 8,\n        \"min\": 1,\n        \"max\": 31,\n        \"num_unique_values\": 31,\n        \"samples\": [\n          11,\n          7,\n          20\n        ],\n        \"semantic_type\": \"\",\n        \"description\": \"\"\n      }\n    },\n    {\n      \"column\": \"join_year\",\n      \"properties\": {\n        \"dtype\": \"number\",\n        \"std\": 1,\n        \"min\": 2015,\n        \"max\": 2021,\n        \"num_unique_values\": 7,\n        \"samples\": [\n          2020,\n          2016,\n          2018\n        ],\n        \"semantic_type\": \"\",\n        \"description\": \"\"\n      }\n    },\n    {\n      \"column\": \"item_count\",\n      \"properties\": {\n        \"dtype\": \"number\",\n        \"std\": 604,\n        \"min\": 1,\n        \"max\": 4739,\n        \"num_unique_values\": 484,\n        \"samples\": [\n          36,\n          324,\n          12\n        ],\n        \"semantic_type\": \"\",\n        \"description\": \"\"\n      }\n    },\n    {\n      \"column\": \"follower_count\",\n      \"properties\": {\n        \"dtype\": \"number\",\n        \"std\": 262716,\n        \"min\": 6,\n        \"max\": 2039888,\n        \"num_unique_values\": 733,\n        \"samples\": [\n          59474,\n          27588,\n          482\n        ],\n        \"semantic_type\": \"\",\n        \"description\": \"\"\n      }\n    },\n    {\n      \"column\": \"response_time\",\n      \"properties\": {\n        \"dtype\": \"string\",\n        \"num_unique_values\": 727,\n        \"samples\": [\n          \" 13:02:10\",\n          \" 09:36:42\",\n          \" 09:12:01\"\n        ],\n        \"semantic_type\": \"\",\n        \"description\": \"\"\n      }\n    },\n    {\n      \"column\": \"response_rate\",\n      \"properties\": {\n        \"dtype\": \"number\",\n        \"std\": 22,\n        \"min\": 1,\n        \"max\": 100,\n        \"num_unique_values\": 94,\n        \"samples\": [\n          66,\n          58,\n          27\n        ],\n        \"semantic_type\": \"\",\n        \"description\": \"\"\n      }\n    },\n    {\n      \"column\": \"shop_location\",\n      \"properties\": {\n        \"dtype\": \"category\",\n        \"num_unique_values\": 38,\n        \"samples\": [\n          \"Magalang,Pampanga\",\n          \"Bagac,Bataan\",\n          \"Taytay,Rizal\"\n        ],\n        \"semantic_type\": \"\",\n        \"description\": \"\"\n      }\n    },\n    {\n      \"column\": \"rating_bad\",\n      \"properties\": {\n        \"dtype\": \"number\",\n        \"std\": 9232,\n        \"min\": 0,\n        \"max\": 102833,\n        \"num_unique_values\": 426,\n        \"samples\": [\n          2387,\n          58,\n          429\n        ],\n        \"semantic_type\": \"\",\n        \"description\": \"\"\n      }\n    },\n    {\n      \"column\": \"rating_good\",\n      \"properties\": {\n        \"dtype\": \"number\",\n        \"std\": 341767,\n        \"min\": 0,\n        \"max\": 3403406,\n        \"num_unique_values\": 700,\n        \"samples\": [\n          4,\n          57744,\n          1614\n        ],\n        \"semantic_type\": \"\",\n        \"description\": \"\"\n      }\n    },\n    {\n      \"column\": \"rating_normal\",\n      \"properties\": {\n        \"dtype\": \"number\",\n        \"std\": 15174,\n        \"min\": 0,\n        \"max\": 153076,\n        \"num_unique_values\": 517,\n        \"samples\": [\n          1246,\n          19431,\n          18441\n        ],\n        \"semantic_type\": \"\",\n        \"description\": \"\"\n      }\n    },\n    {\n      \"column\": \"rating_star\",\n      \"properties\": {\n        \"dtype\": \"number\",\n        \"std\": 0.1528879126050256,\n        \"min\": 4.06,\n        \"max\": 5.0,\n        \"num_unique_values\": 69,\n        \"samples\": [\n          4.79,\n          4.81,\n          4.67\n        ],\n        \"semantic_type\": \"\",\n        \"description\": \"\"\n      }\n    },\n    {\n      \"column\": \"is_shopee_verified\",\n      \"properties\": {\n        \"dtype\": \"number\",\n        \"std\": 0,\n        \"min\": 0,\n        \"max\": 1,\n        \"num_unique_values\": 2,\n        \"samples\": [\n          0,\n          1\n        ],\n        \"semantic_type\": \"\",\n        \"description\": \"\"\n      }\n    },\n    {\n      \"column\": \"is_official_shop\",\n      \"properties\": {\n        \"dtype\": \"number\",\n        \"std\": 0,\n        \"min\": 0,\n        \"max\": 1,\n        \"num_unique_values\": 2,\n        \"samples\": [\n          1,\n          0\n        ],\n        \"semantic_type\": \"\",\n        \"description\": \"\"\n      }\n    }\n  ]\n}"
            }
          },
          "metadata": {},
          "execution_count": 4
        }
      ]
    },
    {
      "cell_type": "code",
      "source": [
        "# Vẽ biểu đồ so sánh số lượng shop gia nhâp theo các năm\n",
        "# B1: Đếm mỗi năm có bao nhiêu shop gia nhập\n",
        "df1 = df.groupby('join_year')['shopid'].count().reset_index()\n",
        "df1\n",
        "# B2: Vẽ Bar chart\n",
        "plt.bar(df1['join_year'], df1['shopid'])"
      ],
      "metadata": {
        "colab": {
          "base_uri": "https://localhost:8080/",
          "height": 448
        },
        "id": "pPW3R3mw04_z",
        "outputId": "27d1cb4c-0ec2-4097-b93a-822fc0016450"
      },
      "execution_count": 5,
      "outputs": [
        {
          "output_type": "execute_result",
          "data": {
            "text/plain": [
              "<BarContainer object of 7 artists>"
            ]
          },
          "metadata": {},
          "execution_count": 5
        },
        {
          "output_type": "display_data",
          "data": {
            "text/plain": [
              "<Figure size 640x480 with 1 Axes>"
            ],
            "image/png": "[encoded data removed]"
          },
          "metadata": {}
        }
      ]
    },
    {
      "cell_type": "code",
      "source": [
        "# Vẽ biểu đồ thể hiện mối quan hệ giữa tỉ lệ phản hồi với số lượt khách hàng đánh giá tốt\n",
        "\n",
        "# Scatter\n",
        "plt.scatter(df['response_rate'], df['rating_good'])"
      ],
      "metadata": {
        "colab": {
          "base_uri": "https://localhost:8080/",
          "height": 463
        },
        "id": "9xbscKp506Mh",
        "outputId": "37b19d86-df13-443c-9b34-62ed87639088"
      },
      "execution_count": 6,
      "outputs": [
        {
          "output_type": "execute_result",
          "data": {
            "text/plain": [
              "<matplotlib.collections.PathCollection at 0x7a6b11b9fbe0>"
            ]
          },
          "metadata": {},
          "execution_count": 6
        },
        {
          "output_type": "display_data",
          "data": {
            "text/plain": [
              "<Figure size 640x480 with 1 Axes>"
            ],
            "image/png": "[encoded data removed]"
          },
          "metadata": {}
        }
      ]
    },
    {
      "cell_type": "code",
      "source": [
        "# Vẽ biểu đồ thể hiện mối quan hệ giữa thời gian phản hồi (đơn vị giây) với số lượt khách hàng đánh giá xấu.\n",
        "\n",
        "# response_time\n",
        "# rating_bad"
      ],
      "metadata": {
        "id": "O7j4jcG907UB"
      },
      "execution_count": 7,
      "outputs": []
    },
    {
      "cell_type": "code",
      "source": [
        "df['seconds'] = pd.to_timedelta(df['response_time']).dt.total_seconds()"
      ],
      "metadata": {
        "id": "uGVqDOdv09ht"
      },
      "execution_count": 8,
      "outputs": []
    },
    {
      "cell_type": "code",
      "source": [
        "# df1 = df[df['rating_bad'] < 40000]"
      ],
      "metadata": {
        "id": "BSz-QmYy0-Fg"
      },
      "execution_count": 9,
      "outputs": []
    },
    {
      "cell_type": "code",
      "source": [
        "plt.scatter(df['seconds'], df['rating_bad'])"
      ],
      "metadata": {
        "colab": {
          "base_uri": "https://localhost:8080/",
          "height": 448
        },
        "id": "OzKDVan90_AI",
        "outputId": "bbd727d2-4c32-484a-b1ab-683e62fa3902"
      },
      "execution_count": 10,
      "outputs": [
        {
          "output_type": "execute_result",
          "data": {
            "text/plain": [
              "<matplotlib.collections.PathCollection at 0x7a6b11a573d0>"
            ]
          },
          "metadata": {},
          "execution_count": 10
        },
        {
          "output_type": "display_data",
          "data": {
            "text/plain": [
              "<Figure size 640x480 with 1 Axes>"
            ],
            "image/png": "[encoded data removed]"
          },
          "metadata": {}
        }
      ]
    },
    {
      "cell_type": "code",
      "source": [
        "# Vẽ biểu đồ thể hiện xu hướng của số lượng shop gia nhập theo thời gian (năm).\n",
        "plt.plot(df1['join_year'], df1['shopid'])"
      ],
      "metadata": {
        "colab": {
          "base_uri": "https://localhost:8080/",
          "height": 448
        },
        "id": "6eXFi4Vz1AQR",
        "outputId": "7d3f33a9-8685-4942-b228-25e2b4a5f868"
      },
      "execution_count": 11,
      "outputs": [
        {
          "output_type": "execute_result",
          "data": {
            "text/plain": [
              "[<matplotlib.lines.Line2D at 0x7a6b11af4d30>]"
            ]
          },
          "metadata": {},
          "execution_count": 11
        },
        {
          "output_type": "display_data",
          "data": {
            "text/plain": [
              "<Figure size 640x480 with 1 Axes>"
            ],
            "image/png": "[encoded data removed]"
          },
          "metadata": {}
        }
      ]
    },
    {
      "cell_type": "code",
      "source": [
        "# Vẽ biểu đồ thể hiện phân bố của điểm đánh giá trung bình.\n",
        "\n",
        "# phân bổ: histogram\n",
        "# rating_star\n",
        "plt.hist(df['rating_star'])\n"
      ],
      "metadata": {
        "colab": {
          "base_uri": "https://localhost:8080/",
          "height": 504
        },
        "id": "lMS89IJx1BGD",
        "outputId": "b22e76eb-1d74-4119-f4c0-be351158c7a0"
      },
      "execution_count": 12,
      "outputs": [
        {
          "output_type": "execute_result",
          "data": {
            "text/plain": [
              "(array([  1.,   2.,   7.,  11.,  61.,  92.,  91., 182., 233.,  60.]),\n",
              " array([4.06 , 4.154, 4.248, 4.342, 4.436, 4.53 , 4.624, 4.718, 4.812,\n",
              "        4.906, 5.   ]),\n",
              " <BarContainer object of 10 artists>)"
            ]
          },
          "metadata": {},
          "execution_count": 12
        },
        {
          "output_type": "display_data",
          "data": {
            "text/plain": [
              "<Figure size 640x480 with 1 Axes>"
            ],
            "image/png": "[encoded data removed]"
          },
          "metadata": {}
        }
      ]
    },
    {
      "cell_type": "code",
      "source": [],
      "metadata": {
        "id": "OcetCBik1DlE"
      },
      "execution_count": null,
      "outputs": []
    }
  ]
}