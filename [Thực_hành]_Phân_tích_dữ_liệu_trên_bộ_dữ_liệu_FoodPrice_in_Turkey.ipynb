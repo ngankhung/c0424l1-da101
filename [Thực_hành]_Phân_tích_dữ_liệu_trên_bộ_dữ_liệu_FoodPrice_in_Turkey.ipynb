{
  "nbformat": 4,
  "nbformat_minor": 0,
  "metadata": {
    "colab": {
      "provenance": []
    },
    "kernelspec": {
      "name": "python3",
      "display_name": "Python 3"
    },
    "language_info": {
      "name": "python"
    }
  },
  "cells": [
    {
      "cell_type": "markdown",
      "source": [
        "# Set Up"
      ],
      "metadata": {
        "id": "NlJMyuMIv9a2"
      }
    },
    {
      "cell_type": "code",
      "execution_count": null,
      "metadata": {
        "id": "pwLZ7B7HvZhF"
      },
      "outputs": [],
      "source": [
        "import pandas as pd\n",
        "import numpy as np\n",
        "import matplotlib.pyplot as plt\n",
        "import seaborn as sns\n",
        "from scipy import stats"
      ]
    },
    {
      "cell_type": "code",
      "source": [
        "df = pd.read_csv('FoodPrice_in_Turkey.csv')"
      ],
      "metadata": {
        "id": "XMEKeS-fwJkz"
      },
      "execution_count": null,
      "outputs": []
    },
    {
      "cell_type": "code",
      "source": [
        "df.head()"
      ],
      "metadata": {
        "colab": {
          "base_uri": "https://localhost:8080/",
          "height": 206
        },
        "id": "OYhqyixCw4jn",
        "outputId": "3ce271cb-f21d-4291-98db-3c793fe1ab1b"
      },
      "execution_count": null,
      "outputs": [
        {
          "output_type": "execute_result",
          "data": {
            "text/plain": [
              "              Place  ProductId    ProductName  UmId UmName  Month  Year  \\\n",
              "0  National Average         52  Rice - Retail     5     KG      5  2013   \n",
              "1  National Average         52  Rice - Retail     5     KG      6  2013   \n",
              "2  National Average         52  Rice - Retail     5     KG     11  2013   \n",
              "3  National Average         52  Rice - Retail     5     KG     12  2013   \n",
              "4  National Average         52  Rice - Retail     5     KG      1  2014   \n",
              "\n",
              "    Price  \n",
              "0  4.4920  \n",
              "1  4.5786  \n",
              "2  4.7865  \n",
              "3  5.1337  \n",
              "4  5.5099  "
            ],
            "text/html": [
              "\n",
              "  <div id=\"df-453ad0a1-9423-4d9b-941d-bc4b01b2ce57\" class=\"colab-df-container\">\n",
              "    <div>\n",
              "<style scoped>\n",
              "    .dataframe tbody tr th:only-of-type {\n",
              "        vertical-align: middle;\n",
              "    }\n",
              "\n",
              "    .dataframe tbody tr th {\n",
              "        vertical-align: top;\n",
              "    }\n",
              "\n",
              "    .dataframe thead th {\n",
              "        text-align: right;\n",
              "    }\n",
              "</style>\n",
              "<table border=\"1\" class=\"dataframe\">\n",
              "  <thead>\n",
              "    <tr style=\"text-align: right;\">\n",
              "      <th></th>\n",
              "      <th>Place</th>\n",
              "      <th>ProductId</th>\n",
              "      <th>ProductName</th>\n",
              "      <th>UmId</th>\n",
              "      <th>UmName</th>\n",
              "      <th>Month</th>\n",
              "      <th>Year</th>\n",
              "      <th>Price</th>\n",
              "    </tr>\n",
              "  </thead>\n",
              "  <tbody>\n",
              "    <tr>\n",
              "      <th>0</th>\n",
              "      <td>National Average</td>\n",
              "      <td>52</td>\n",
              "      <td>Rice - Retail</td>\n",
              "      <td>5</td>\n",
              "      <td>KG</td>\n",
              "      <td>5</td>\n",
              "      <td>2013</td>\n",
              "      <td>4.4920</td>\n",
              "    </tr>\n",
              "    <tr>\n",
              "      <th>1</th>\n",
              "      <td>National Average</td>\n",
              "      <td>52</td>\n",
              "      <td>Rice - Retail</td>\n",
              "      <td>5</td>\n",
              "      <td>KG</td>\n",
              "      <td>6</td>\n",
              "      <td>2013</td>\n",
              "      <td>4.5786</td>\n",
              "    </tr>\n",
              "    <tr>\n",
              "      <th>2</th>\n",
              "      <td>National Average</td>\n",
              "      <td>52</td>\n",
              "      <td>Rice - Retail</td>\n",
              "      <td>5</td>\n",
              "      <td>KG</td>\n",
              "      <td>11</td>\n",
              "      <td>2013</td>\n",
              "      <td>4.7865</td>\n",
              "    </tr>\n",
              "    <tr>\n",
              "      <th>3</th>\n",
              "      <td>National Average</td>\n",
              "      <td>52</td>\n",
              "      <td>Rice - Retail</td>\n",
              "      <td>5</td>\n",
              "      <td>KG</td>\n",
              "      <td>12</td>\n",
              "      <td>2013</td>\n",
              "      <td>5.1337</td>\n",
              "    </tr>\n",
              "    <tr>\n",
              "      <th>4</th>\n",
              "      <td>National Average</td>\n",
              "      <td>52</td>\n",
              "      <td>Rice - Retail</td>\n",
              "      <td>5</td>\n",
              "      <td>KG</td>\n",
              "      <td>1</td>\n",
              "      <td>2014</td>\n",
              "      <td>5.5099</td>\n",
              "    </tr>\n",
              "  </tbody>\n",
              "</table>\n",
              "</div>\n",
              "    <div class=\"colab-df-buttons\">\n",
              "\n",
              "  <div class=\"colab-df-container\">\n",
              "    <button class=\"colab-df-convert\" onclick=\"convertToInteractive('df-453ad0a1-9423-4d9b-941d-bc4b01b2ce57')\"\n",
              "            title=\"Convert this dataframe to an interactive table.\"\n",
              "            style=\"display:none;\">\n",
              "\n",
              "  <svg xmlns=\"http://www.w3.org/2000/svg\" height=\"24px\" viewBox=\"0 -960 960 960\">\n",
              "    <path d=\"M120-120v-720h720v720H120Zm60-500h600v-160H180v160Zm220 220h160v-160H400v160Zm0 220h160v-160H400v160ZM180-400h160v-160H180v160Zm440 0h160v-160H620v160ZM180-180h160v-160H180v160Zm440 0h160v-160H620v160Z\"/>\n",
              "  </svg>\n",
              "    </button>\n",
              "\n",
              "  <style>\n",
              "    .colab-df-container {\n",
              "      display:flex;\n",
              "      gap: 12px;\n",
              "    }\n",
              "\n",
              "    .colab-df-convert {\n",
              "      background-color: #E8F0FE;\n",
              "      border: none;\n",
              "      border-radius: 50%;\n",
              "      cursor: pointer;\n",
              "      display: none;\n",
              "      fill: #1967D2;\n",
              "      height: 32px;\n",
              "      padding: 0 0 0 0;\n",
              "      width: 32px;\n",
              "    }\n",
              "\n",
              "    .colab-df-convert:hover {\n",
              "      background-color: #E2EBFA;\n",
              "      box-shadow: 0px 1px 2px rgba(60, 64, 67, 0.3), 0px 1px 3px 1px rgba(60, 64, 67, 0.15);\n",
              "      fill: #174EA6;\n",
              "    }\n",
              "\n",
              "    .colab-df-buttons div {\n",
              "      margin-bottom: 4px;\n",
              "    }\n",
              "\n",
              "    [theme=dark] .colab-df-convert {\n",
              "      background-color: #3B4455;\n",
              "      fill: #D2E3FC;\n",
              "    }\n",
              "\n",
              "    [theme=dark] .colab-df-convert:hover {\n",
              "      background-color: #434B5C;\n",
              "      box-shadow: 0px 1px 3px 1px rgba(0, 0, 0, 0.15);\n",
              "      filter: drop-shadow(0px 1px 2px rgba(0, 0, 0, 0.3));\n",
              "      fill: #FFFFFF;\n",
              "    }\n",
              "  </style>\n",
              "\n",
              "    <script>\n",
              "      const buttonEl =\n",
              "        document.querySelector('#df-453ad0a1-9423-4d9b-941d-bc4b01b2ce57 button.colab-df-convert');\n",
              "      buttonEl.style.display =\n",
              "        google.colab.kernel.accessAllowed ? 'block' : 'none';\n",
              "\n",
              "      async function convertToInteractive(key) {\n",
              "        const element = document.querySelector('#df-453ad0a1-9423-4d9b-941d-bc4b01b2ce57');\n",
              "        const dataTable =\n",
              "          await google.colab.kernel.invokeFunction('convertToInteractive',\n",
              "                                                    [key], {});\n",
              "        if (!dataTable) return;\n",
              "\n",
              "        const docLinkHtml = 'Like what you see? Visit the ' +\n",
              "          '<a target=\"_blank\" href=https://colab.research.google.com/notebooks/data_table.ipynb>data table notebook</a>'\n",
              "          + ' to learn more about interactive tables.';\n",
              "        element.innerHTML = '';\n",
              "        dataTable['output_type'] = 'display_data';\n",
              "        await google.colab.output.renderOutput(dataTable, element);\n",
              "        const docLink = document.createElement('div');\n",
              "        docLink.innerHTML = docLinkHtml;\n",
              "        element.appendChild(docLink);\n",
              "      }\n",
              "    </script>\n",
              "  </div>\n",
              "\n",
              "\n",
              "<div id=\"df-5573b632-48e0-46ba-b809-f3a90c448d7f\">\n",
              "  <button class=\"colab-df-quickchart\" onclick=\"quickchart('df-5573b632-48e0-46ba-b809-f3a90c448d7f')\"\n",
              "            title=\"Suggest charts\"\n",
              "            style=\"display:none;\">\n",
              "\n",
              "<svg xmlns=\"http://www.w3.org/2000/svg\" height=\"24px\"viewBox=\"0 0 24 24\"\n",
              "     width=\"24px\">\n",
              "    <g>\n",
              "        <path d=\"M19 3H5c-1.1 0-2 .9-2 2v14c0 1.1.9 2 2 2h14c1.1 0 2-.9 2-2V5c0-1.1-.9-2-2-2zM9 17H7v-7h2v7zm4 0h-2V7h2v10zm4 0h-2v-4h2v4z\"/>\n",
              "    </g>\n",
              "</svg>\n",
              "  </button>\n",
              "\n",
              "<style>\n",
              "  .colab-df-quickchart {\n",
              "      --bg-color: #E8F0FE;\n",
              "      --fill-color: #1967D2;\n",
              "      --hover-bg-color: #E2EBFA;\n",
              "      --hover-fill-color: #174EA6;\n",
              "      --disabled-fill-color: #AAA;\n",
              "      --disabled-bg-color: #DDD;\n",
              "  }\n",
              "\n",
              "  [theme=dark] .colab-df-quickchart {\n",
              "      --bg-color: #3B4455;\n",
              "      --fill-color: #D2E3FC;\n",
              "      --hover-bg-color: #434B5C;\n",
              "      --hover-fill-color: #FFFFFF;\n",
              "      --disabled-bg-color: #3B4455;\n",
              "      --disabled-fill-color: #666;\n",
              "  }\n",
              "\n",
              "  .colab-df-quickchart {\n",
              "    background-color: var(--bg-color);\n",
              "    border: none;\n",
              "    border-radius: 50%;\n",
              "    cursor: pointer;\n",
              "    display: none;\n",
              "    fill: var(--fill-color);\n",
              "    height: 32px;\n",
              "    padding: 0;\n",
              "    width: 32px;\n",
              "  }\n",
              "\n",
              "  .colab-df-quickchart:hover {\n",
              "    background-color: var(--hover-bg-color);\n",
              "    box-shadow: 0 1px 2px rgba(60, 64, 67, 0.3), 0 1px 3px 1px rgba(60, 64, 67, 0.15);\n",
              "    fill: var(--button-hover-fill-color);\n",
              "  }\n",
              "\n",
              "  .colab-df-quickchart-complete:disabled,\n",
              "  .colab-df-quickchart-complete:disabled:hover {\n",
              "    background-color: var(--disabled-bg-color);\n",
              "    fill: var(--disabled-fill-color);\n",
              "    box-shadow: none;\n",
              "  }\n",
              "\n",
              "  .colab-df-spinner {\n",
              "    border: 2px solid var(--fill-color);\n",
              "    border-color: transparent;\n",
              "    border-bottom-color: var(--fill-color);\n",
              "    animation:\n",
              "      spin 1s steps(1) infinite;\n",
              "  }\n",
              "\n",
              "  @keyframes spin {\n",
              "    0% {\n",
              "      border-color: transparent;\n",
              "      border-bottom-color: var(--fill-color);\n",
              "      border-left-color: var(--fill-color);\n",
              "    }\n",
              "    20% {\n",
              "      border-color: transparent;\n",
              "      border-left-color: var(--fill-color);\n",
              "      border-top-color: var(--fill-color);\n",
              "    }\n",
              "    30% {\n",
              "      border-color: transparent;\n",
              "      border-left-color: var(--fill-color);\n",
              "      border-top-color: var(--fill-color);\n",
              "      border-right-color: var(--fill-color);\n",
              "    }\n",
              "    40% {\n",
              "      border-color: transparent;\n",
              "      border-right-color: var(--fill-color);\n",
              "      border-top-color: var(--fill-color);\n",
              "    }\n",
              "    60% {\n",
              "      border-color: transparent;\n",
              "      border-right-color: var(--fill-color);\n",
              "    }\n",
              "    80% {\n",
              "      border-color: transparent;\n",
              "      border-right-color: var(--fill-color);\n",
              "      border-bottom-color: var(--fill-color);\n",
              "    }\n",
              "    90% {\n",
              "      border-color: transparent;\n",
              "      border-bottom-color: var(--fill-color);\n",
              "    }\n",
              "  }\n",
              "</style>\n",
              "\n",
              "  <script>\n",
              "    async function quickchart(key) {\n",
              "      const quickchartButtonEl =\n",
              "        document.querySelector('#' + key + ' button');\n",
              "      quickchartButtonEl.disabled = true;  // To prevent multiple clicks.\n",
              "      quickchartButtonEl.classList.add('colab-df-spinner');\n",
              "      try {\n",
              "        const charts = await google.colab.kernel.invokeFunction(\n",
              "            'suggestCharts', [key], {});\n",
              "      } catch (error) {\n",
              "        console.error('Error during call to suggestCharts:', error);\n",
              "      }\n",
              "      quickchartButtonEl.classList.remove('colab-df-spinner');\n",
              "      quickchartButtonEl.classList.add('colab-df-quickchart-complete');\n",
              "    }\n",
              "    (() => {\n",
              "      let quickchartButtonEl =\n",
              "        document.querySelector('#df-5573b632-48e0-46ba-b809-f3a90c448d7f button');\n",
              "      quickchartButtonEl.style.display =\n",
              "        google.colab.kernel.accessAllowed ? 'block' : 'none';\n",
              "    })();\n",
              "  </script>\n",
              "</div>\n",
              "\n",
              "    </div>\n",
              "  </div>\n"
            ],
            "application/vnd.google.colaboratory.intrinsic+json": {
              "type": "dataframe",
              "variable_name": "df",
              "summary": "{\n  \"name\": \"df\",\n  \"rows\": 7381,\n  \"fields\": [\n    {\n      \"column\": \"Place\",\n      \"properties\": {\n        \"dtype\": \"category\",\n        \"num_unique_values\": 4,\n        \"samples\": [\n          \"Ankara\",\n          \"Izmir\",\n          \"National Average\"\n        ],\n        \"semantic_type\": \"\",\n        \"description\": \"\"\n      }\n    },\n    {\n      \"column\": \"ProductId\",\n      \"properties\": {\n        \"dtype\": \"number\",\n        \"std\": 141,\n        \"min\": 52,\n        \"max\": 502,\n        \"num_unique_values\": 52,\n        \"samples\": [\n          185,\n          414,\n          465\n        ],\n        \"semantic_type\": \"\",\n        \"description\": \"\"\n      }\n    },\n    {\n      \"column\": \"ProductName\",\n      \"properties\": {\n        \"dtype\": \"category\",\n        \"num_unique_values\": 52,\n        \"samples\": [\n          \"Salt - Retail\",\n          \"Cheese - Retail\",\n          \"Wage (non-qualified labour, non-agricultural) - Retail\"\n        ],\n        \"semantic_type\": \"\",\n        \"description\": \"\"\n      }\n    },\n    {\n      \"column\": \"UmId\",\n      \"properties\": {\n        \"dtype\": \"number\",\n        \"std\": 25,\n        \"min\": 5,\n        \"max\": 102,\n        \"num_unique_values\": 9,\n        \"samples\": [\n          102,\n          33,\n          51\n        ],\n        \"semantic_type\": \"\",\n        \"description\": \"\"\n      }\n    },\n    {\n      \"column\": \"UmName\",\n      \"properties\": {\n        \"dtype\": \"category\",\n        \"num_unique_values\": 9,\n        \"samples\": [\n          \"Package\",\n          \"Unit\",\n          \"Day\"\n        ],\n        \"semantic_type\": \"\",\n        \"description\": \"\"\n      }\n    },\n    {\n      \"column\": \"Month\",\n      \"properties\": {\n        \"dtype\": \"number\",\n        \"std\": 3,\n        \"min\": 1,\n        \"max\": 12,\n        \"num_unique_values\": 12,\n        \"samples\": [\n          10,\n          9,\n          5\n        ],\n        \"semantic_type\": \"\",\n        \"description\": \"\"\n      }\n    },\n    {\n      \"column\": \"Year\",\n      \"properties\": {\n        \"dtype\": \"number\",\n        \"std\": 1,\n        \"min\": 2013,\n        \"max\": 2019,\n        \"num_unique_values\": 7,\n        \"samples\": [\n          2013,\n          2014,\n          2018\n        ],\n        \"semantic_type\": \"\",\n        \"description\": \"\"\n      }\n    },\n    {\n      \"column\": \"Price\",\n      \"properties\": {\n        \"dtype\": \"number\",\n        \"std\": 22.418283552602364,\n        \"min\": 0.2539,\n        \"max\": 159.4458,\n        \"num_unique_values\": 6596,\n        \"samples\": [\n          5.9317,\n          5.809,\n          5.3053\n        ],\n        \"semantic_type\": \"\",\n        \"description\": \"\"\n      }\n    }\n  ]\n}"
            }
          },
          "metadata": {},
          "execution_count": 3
        }
      ]
    },
    {
      "cell_type": "code",
      "source": [
        "# Với mức ý nghĩa 5% hay kiểm định giả thuyết:\n",
        "# giá bán lẻ gạo trung bình năm 2019 là 9.5 (Lira)/1 kg\n",
        "# Turkish Lira là đơn vị tiền tệ ở Turkey (1 usd ~ 8-9 Lira)"
      ],
      "metadata": {
        "id": "WHaKB05bw7lI"
      },
      "execution_count": null,
      "outputs": []
    },
    {
      "cell_type": "code",
      "source": [
        "# Đưa ra giả thuyết\n",
        "# H0: mean = 9.5\n",
        "# H1: mean khác 9.5"
      ],
      "metadata": {
        "id": "aBrSvqtvxOuf"
      },
      "execution_count": null,
      "outputs": []
    },
    {
      "cell_type": "code",
      "source": [
        "# Lọc dữ liệu: giá gạo năm 2019\n",
        "price_rice_2019 = df[(df['Year'] == 2019) & (df['ProductName'] == 'Rice - Retail')].Price\n",
        "price_rice_2019"
      ],
      "metadata": {
        "colab": {
          "base_uri": "https://localhost:8080/"
        },
        "id": "4xA6gJuJxiDz",
        "outputId": "36ae615e-894e-4e9a-c338-da14a731c9fa"
      },
      "execution_count": null,
      "outputs": [
        {
          "output_type": "execute_result",
          "data": {
            "text/plain": [
              "54       8.4275\n",
              "55       8.7656\n",
              "56       8.8101\n",
              "57       8.9266\n",
              "58       9.1866\n",
              "59       9.2781\n",
              "60       9.4634\n",
              "61       9.4681\n",
              "62       9.5000\n",
              "63       9.4346\n",
              "64       9.4267\n",
              "65       9.5616\n",
              "2657     8.0617\n",
              "2658     8.4047\n",
              "2659     8.4525\n",
              "2660     8.4833\n",
              "2661     8.5930\n",
              "2662     8.6665\n",
              "2663     8.8262\n",
              "2664     8.5789\n",
              "2665     8.6018\n",
              "2666     8.5373\n",
              "2667     8.6074\n",
              "2668     8.9477\n",
              "4239     8.8745\n",
              "4240     9.2860\n",
              "4241     9.3131\n",
              "4242     9.3970\n",
              "4243     9.7617\n",
              "4244     9.8176\n",
              "4245    10.1121\n",
              "4246    10.1093\n",
              "4247    10.1809\n",
              "4248    10.1348\n",
              "4249    10.1288\n",
              "4250    10.2924\n",
              "5822     9.1330\n",
              "5823     9.4793\n",
              "5824     9.5203\n",
              "5825     9.7229\n",
              "5826    10.0941\n",
              "5827    10.2523\n",
              "5828    10.3485\n",
              "5829    10.3386\n",
              "5830    10.4043\n",
              "5831    10.1955\n",
              "5832    10.2719\n",
              "5833    10.2803\n",
              "Name: Price, dtype: float64"
            ]
          },
          "metadata": {},
          "execution_count": 5
        }
      ]
    },
    {
      "cell_type": "code",
      "source": [
        "stats.ttest_1samp(price_rice_2019, 9.5)"
      ],
      "metadata": {
        "colab": {
          "base_uri": "https://localhost:8080/"
        },
        "id": "CgBmhGdQyUZ-",
        "outputId": "0e6282c6-f3f6-45a6-d218-2f6c24970e7c"
      },
      "execution_count": null,
      "outputs": [
        {
          "output_type": "execute_result",
          "data": {
            "text/plain": [
              "TtestResult(statistic=-1.1854023812590566, pvalue=0.24181730968913567, df=47)"
            ]
          },
          "metadata": {},
          "execution_count": 6
        }
      ]
    },
    {
      "cell_type": "code",
      "source": [
        "# p = 0.24 > 0.05\n",
        "# => không có bằng chứng để bác bỏ giả thuyết H0 (giả thuyết Không - Null Hypothesis)\n",
        "# => không đủ bằng chứng để bác bỏ giả thuyết rằng giá gạo trung bình năm 2019 = 9.5"
      ],
      "metadata": {
        "id": "-z8U-yK3yuE5"
      },
      "execution_count": null,
      "outputs": []
    },
    {
      "cell_type": "code",
      "source": [
        "# Với mức ý nghĩa 5% hãy kiểm định giả thuyết:\n",
        "# Giá bột mỳ và giá gạo ở Turkey năm 2019 là bằng nhau\n",
        "\n",
        "# H0: giá trung bình bột mỳ - giá trung bình gạo = 0\n",
        "# H1: giá trung bình bột mỳ - giá trung bình gạo khác 0"
      ],
      "metadata": {
        "id": "EDYl13cUz7Jh"
      },
      "execution_count": null,
      "outputs": []
    },
    {
      "cell_type": "code",
      "source": [
        "# giá bột mỳ năm 2019\n",
        "price_flour_2019 = df[(df['Year'] == 2019) & (df['ProductName'] == 'Wheat flour - Retail')].Price\n",
        "\n",
        "# giá gạo năm 2019\n",
        "price_rice_2019 = df[(df['Year'] == 2019) & (df['ProductName'] == 'Rice - Retail')].Price"
      ],
      "metadata": {
        "id": "uKe76eKK0WXj"
      },
      "execution_count": null,
      "outputs": []
    },
    {
      "cell_type": "code",
      "source": [
        "stats.ttest_ind(price_flour_2019, price_rice_2019)"
      ],
      "metadata": {
        "colab": {
          "base_uri": "https://localhost:8080/"
        },
        "id": "iAbzzcVg0sLm",
        "outputId": "c3e0777d-eb4b-4e6d-f083-a95cc0d1356b"
      },
      "execution_count": null,
      "outputs": [
        {
          "output_type": "execute_result",
          "data": {
            "text/plain": [
              "TtestResult(statistic=-53.751692036304206, pvalue=2.226692642717799e-72, df=94.0)"
            ]
          },
          "metadata": {},
          "execution_count": 10
        }
      ]
    },
    {
      "cell_type": "code",
      "source": [
        "2.226692642717799 * (10**-72) < 0.05"
      ],
      "metadata": {
        "colab": {
          "base_uri": "https://localhost:8080/"
        },
        "id": "eVDLkpF800n3",
        "outputId": "56e5f046-a5b7-4159-b7af-d15ee9688029"
      },
      "execution_count": null,
      "outputs": [
        {
          "output_type": "execute_result",
          "data": {
            "text/plain": [
              "True"
            ]
          },
          "metadata": {},
          "execution_count": 13
        }
      ]
    },
    {
      "cell_type": "code",
      "source": [
        "# bác bỏ giả thuyết Không (bác bỏ Null Hypothesis)\n",
        "# giá bột mỳ năm 2019 khác với giá gạo năm 2019"
      ],
      "metadata": {
        "id": "JJs8lwL11NKa"
      },
      "execution_count": null,
      "outputs": []
    }
  ]
}